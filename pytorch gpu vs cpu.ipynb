{
 "cells": [
  {
   "cell_type": "code",
   "execution_count": 1,
   "metadata": {},
   "outputs": [],
   "source": [
    "import torch\n",
    "import time"
   ]
  },
  {
   "cell_type": "code",
   "execution_count": 2,
   "metadata": {},
   "outputs": [
    {
     "name": "stdout",
     "output_type": "stream",
     "text": [
      "1.3.0\n",
      "True\n"
     ]
    }
   ],
   "source": [
    "print(torch.__version__)        # 返回pytorch的版本\n",
    "print(torch.cuda.is_available())        # 当CUDA可用时返回True"
   ]
  },
  {
   "cell_type": "code",
   "execution_count": 3,
   "metadata": {},
   "outputs": [
    {
     "name": "stdout",
     "output_type": "stream",
     "text": [
      "cpu 0.19846367835998535 tensor(140927.7969)\n"
     ]
    }
   ],
   "source": [
    "a = torch.randn(10000, 1000)    # 返回10000行1000列的张量矩阵\n",
    "b = torch.randn(1000, 2000)     # 返回1000行2000列的张量矩阵\n",
    "\n",
    "t0 = time.time()        # 记录时间\n",
    "c = torch.matmul(a, b)      # 矩阵乘法运算\n",
    "t1 = time.time()        # 记录时间\n",
    "print(a.device, t1 - t0, c.norm(2))     # c.norm(2)表示矩阵c的二范数"
   ]
  },
  {
   "cell_type": "code",
   "execution_count": 4,
   "metadata": {},
   "outputs": [
    {
     "name": "stdout",
     "output_type": "stream",
     "text": [
      "cuda:0 0.003989219665527344 tensor(141327.6719, device='cuda:0')\n"
     ]
    }
   ],
   "source": [
    "device = torch.device('cuda')       # 用GPU来运行\n",
    "a = a.to(device)\n",
    "b = b.to(device)\n",
    "\n",
    "# 初次调用GPU，需要数据传送，因此比较慢\n",
    "t0 = time.time()\n",
    "c = torch.matmul(a, b)\n",
    "t2 = time.time()\n",
    "#print(a.device, t2 - t0, c.norm(2))\n",
    "\n",
    "# 这才是GPU处理数据的真实运行时间，当数据量越大，GPU的优势越明显\n",
    "t0 = time.time()\n",
    "c = torch.matmul(a, b)\n",
    "t2 = time.time()\n",
    "print(a.device, t2 - t0, c.norm(2))"
   ]
  },
  {
   "cell_type": "code",
   "execution_count": null,
   "metadata": {},
   "outputs": [],
   "source": []
  }
 ],
 "metadata": {
  "kernelspec": {
   "display_name": "Python 3",
   "language": "python",
   "name": "python3"
  },
  "language_info": {
   "codemirror_mode": {
    "name": "ipython",
    "version": 3
   },
   "file_extension": ".py",
   "mimetype": "text/x-python",
   "name": "python",
   "nbconvert_exporter": "python",
   "pygments_lexer": "ipython3",
   "version": "3.7.4"
  }
 },
 "nbformat": 4,
 "nbformat_minor": 4
}
